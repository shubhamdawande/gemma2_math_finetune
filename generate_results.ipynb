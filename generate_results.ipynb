{
 "cells": [
  {
   "cell_type": "code",
   "execution_count": 1,
   "metadata": {},
   "outputs": [],
   "source": [
    "token = \"\""
   ]
  },
  {
   "cell_type": "markdown",
   "metadata": {},
   "source": [
    "# 1. Load and Transform Dataset"
   ]
  },
  {
   "cell_type": "code",
   "execution_count": 2,
   "metadata": {},
   "outputs": [
    {
     "name": "stderr",
     "output_type": "stream",
     "text": [
      "/root/miniconda3/envs/unsloth/lib/python3.11/site-packages/tqdm/auto.py:21: TqdmWarning: IProgress not found. Please update jupyter and ipywidgets. See https://ipywidgets.readthedocs.io/en/stable/user_install.html\n",
      "  from .autonotebook import tqdm as notebook_tqdm\n"
     ]
    }
   ],
   "source": [
    "from datasets import load_dataset\n",
    "\n",
    "DATASET_NAME = \"TIGER-Lab/MathInstruct\"\n",
    "dataset = load_dataset(DATASET_NAME, split='train')"
   ]
  },
  {
   "cell_type": "code",
   "execution_count": 3,
   "metadata": {
    "scrolled": true
   },
   "outputs": [],
   "source": [
    "if False:\n",
    "    from transformers import AutoTokenizer\n",
    "\n",
    "    model_id = \"gg-hf/gemma-2b-it\"\n",
    "    tokenizer = AutoTokenizer.from_pretrained(model_id, token=token)\n",
    "    model_turn_identifier = '<start_of_turn>model\\n'\n",
    "\n",
    "    lengths = []\n",
    "    for idx, item in enumerate(ds_valid):\n",
    "        length = len(tokenizer.tokenize(item['text'].split(model_turn_identifier)[1]))\n",
    "        lengths.append(length)\n",
    "        print(idx)\n",
    "        if idx > 50000:\n",
    "            break"
   ]
  },
  {
   "cell_type": "code",
   "execution_count": 4,
   "metadata": {},
   "outputs": [],
   "source": [
    "if False:\n",
    "    import matplotlib.pyplot as plt\n",
    "\n",
    "    plt.hist(lengths, range=[0,1500], bins=50, density=True, cumulative=True)\n",
    "    plt.show()"
   ]
  },
  {
   "cell_type": "code",
   "execution_count": 5,
   "metadata": {},
   "outputs": [],
   "source": [
    "# Remove duplicates\n",
    "\n",
    "from collections import Counter\n",
    "\n",
    "instruction_counts = Counter(dataset['instruction'])\n",
    "duplicates = {instruction: count for instruction, count in instruction_counts.items() if count > 1}\n",
    "def filter_unique_examples(example):\n",
    "    return instruction_counts[example['instruction']] == 1\n",
    "\n",
    "filtered_dataset = dataset.filter(filter_unique_examples)"
   ]
  },
  {
   "cell_type": "code",
   "execution_count": 6,
   "metadata": {},
   "outputs": [
    {
     "data": {
      "text/plain": [
       "(208826, 262039)"
      ]
     },
     "execution_count": 6,
     "metadata": {},
     "output_type": "execute_result"
    }
   ],
   "source": [
    "len(filtered_dataset), len(dataset)"
   ]
  },
  {
   "cell_type": "code",
   "execution_count": 7,
   "metadata": {},
   "outputs": [],
   "source": [
    "# Transform data\n",
    "from transformers import AutoTokenizer\n",
    "\n",
    "system_prompt = \"You're a helpful assistant that answers math problems.\"\n",
    "model_id = \"google/gemma-2-2b-it\"\n",
    "tokenizer = AutoTokenizer.from_pretrained(model_id, token=token)\n",
    "\n",
    "def formatting_prompt(item):\n",
    "    chat = [\n",
    "        { \"role\": \"user\", \"content\": system_prompt + '\\n' + item['instruction'] },\n",
    "        { \"role\": \"model\", \"content\": item['output'] }\n",
    "    ]\n",
    "    prompt = tokenizer.apply_chat_template(chat, tokenize=False, add_generation_prompt=False)\n",
    "    return {'text': prompt}\n",
    "    \n",
    "formatted_dataset = filtered_dataset.map(formatting_prompt)"
   ]
  },
  {
   "cell_type": "code",
   "execution_count": 8,
   "metadata": {},
   "outputs": [
    {
     "data": {
      "text/plain": [
       "{'source': 'data/CoT/aqua_rat.json',\n",
       " 'output': \"Let's think about the multi-choice question.\\n6.52 × 10^5 ly / (3.26 ly/parsec) = 2 x 10^5 persec\\nThe answer is A.\",\n",
       " 'instruction': 'The distance between two stars is 6.52 × 10^5 light years. What is the distance between the two stars in parsecs? (1 parsec = 3.26 light years)\\nAnswer Choices: (A) 2 × 10^5 (B) 4 × 10^6 (C) 5 × 10^7 (D) 7 × 10^7 (E) 9 × 10^8',\n",
       " 'text': \"<bos><start_of_turn>user\\nYou're a helpful assistant that answers math problems.\\nThe distance between two stars is 6.52 × 10^5 light years. What is the distance between the two stars in parsecs? (1 parsec = 3.26 light years)\\nAnswer Choices: (A) 2 × 10^5 (B) 4 × 10^6 (C) 5 × 10^7 (D) 7 × 10^7 (E) 9 × 10^8<end_of_turn>\\n<start_of_turn>model\\nLet's think about the multi-choice question.\\n6.52 × 10^5 ly / (3.26 ly/parsec) = 2 x 10^5 persec\\nThe answer is A.<end_of_turn>\\n\"}"
      ]
     },
     "execution_count": 8,
     "metadata": {},
     "output_type": "execute_result"
    }
   ],
   "source": [
    "formatted_dataset[0]"
   ]
  },
  {
   "cell_type": "code",
   "execution_count": 9,
   "metadata": {},
   "outputs": [],
   "source": [
    "split_dataset = formatted_dataset.train_test_split(test_size=0.005, seed=3407)\n",
    "\n",
    "ds_train = split_dataset['train']\n",
    "ds_valid = split_dataset['test']"
   ]
  },
  {
   "cell_type": "code",
   "execution_count": 10,
   "metadata": {},
   "outputs": [
    {
     "data": {
      "text/plain": [
       "Dataset({\n",
       "    features: ['source', 'output', 'instruction', 'text'],\n",
       "    num_rows: 1045\n",
       "})"
      ]
     },
     "execution_count": 10,
     "metadata": {},
     "output_type": "execute_result"
    }
   ],
   "source": [
    "ds_valid"
   ]
  },
  {
   "cell_type": "markdown",
   "metadata": {},
   "source": [
    "# 2. Model Evaluation"
   ]
  },
  {
   "cell_type": "code",
   "execution_count": 11,
   "metadata": {},
   "outputs": [
    {
     "name": "stdout",
     "output_type": "stream",
     "text": [
      "🦥 Unsloth: Will patch your computer to enable 2x faster free finetuning.\n"
     ]
    }
   ],
   "source": [
    "from unsloth import FastLanguageModel\n",
    "import torch\n",
    "\n",
    "max_seq_length = 512 # Choose any! We auto support RoPE Scaling internally!\n",
    "dtype = None # None for auto detection. Float16 for Tesla T4, V100, Bfloat16 for Ampere+\n",
    "load_in_4bit = True # Use 4bit quantization to reduce memory usage. Can be False.\n",
    "\n",
    "# model, tokenizer = FastLanguageModel.from_pretrained(\n",
    "#     model_name = \"unsloth/gemma-2-2b-it-bnb-4bit\",\n",
    "#     max_seq_length = max_seq_length,\n",
    "#     dtype = dtype,\n",
    "#     # load_in_4bit = load_in_4bit,\n",
    "#     token = token\n",
    "# )"
   ]
  },
  {
   "cell_type": "code",
   "execution_count": 12,
   "metadata": {},
   "outputs": [
    {
     "name": "stdout",
     "output_type": "stream",
     "text": [
      "Unsloth: If you want to finetune Gemma 2, install flash-attn to make it faster!\n",
      "To install flash-attn, do the below:\n",
      "\n",
      "pip install --no-deps --upgrade \"flash-attn>=2.6.3\"\n",
      "==((====))==  Unsloth 2024.8: Fast Gemma2 patching. Transformers = 4.45.0.dev0.\n",
      "   \\\\   /|    GPU: NVIDIA GeForce RTX 3080 Ti. Max memory: 11.73 GB. Platform = Linux.\n",
      "O^O/ \\_/ \\    Pytorch: 2.2.2+cu121. CUDA = 8.6. CUDA Toolkit = 12.1.\n",
      "\\        /    Bfloat16 = TRUE. FA [Xformers = 0.0.25.post1. FA2 = False]\n",
      " \"-____-\"     Free Apache license: http://github.com/unslothai/unsloth\n"
     ]
    },
    {
     "name": "stderr",
     "output_type": "stream",
     "text": [
      "Unsloth 2024.8 patched 26 layers with 0 QKV layers, 0 O layers and 0 MLP layers.\n"
     ]
    }
   ],
   "source": [
    "model, tokenizer = FastLanguageModel.from_pretrained(\n",
    "    model_name = \"outputs/checkpoint-10590\", # YOUR MODEL YOU USED FOR TRAINING\n",
    "    max_seq_length = max_seq_length,\n",
    "    # dtype = dtype,\n",
    "    # load_in_4bit = load_in_4bit,\n",
    ")"
   ]
  },
  {
   "cell_type": "code",
   "execution_count": null,
   "metadata": {
    "scrolled": true
   },
   "outputs": [],
   "source": [
    "import json\n",
    "\n",
    "FastLanguageModel.for_inference(model) # Enable native 2x faster inference\n",
    "\n",
    "def generate_output(sample):\n",
    "    inputs = tokenizer([sample], return_tensors = \"pt\").to(\"cuda\")\n",
    "    outputs = model.generate(**inputs, max_new_tokens = 800, use_cache = True)\n",
    "    return tokenizer.batch_decode(outputs)[0]\n",
    "\n",
    "model_turn_identifier = '<start_of_turn>model\\n'\n",
    "\n",
    "with open('./gemma2_finetuned_response.jsonl', 'w+') as f:\n",
    "    for idx, item in enumerate(ds_valid):\n",
    "        if idx > 500:\n",
    "            break\n",
    "        print(f\"{idx} processing out of {len(ds_valid)}\")\n",
    "        inference_prompt = item['text'].split(model_turn_identifier)[0] + model_turn_identifier\n",
    "        response = generate_output(inference_prompt)\n",
    "        response = response.split(model_turn_identifier)[1].strip()\n",
    "        f.write(json.dumps({\"index\": idx, \n",
    "                            \"groundtruth\": item['text'].split(model_turn_identifier)[1], \n",
    "                            \"prediction\": response}) + '\\n')"
   ]
  },
  {
   "cell_type": "code",
   "execution_count": null,
   "metadata": {},
   "outputs": [],
   "source": []
  }
 ],
 "metadata": {
  "kaggle": {
   "accelerator": "none",
   "dataSources": [],
   "dockerImageVersionId": 30747,
   "isGpuEnabled": false,
   "isInternetEnabled": true,
   "language": "python",
   "sourceType": "notebook"
  },
  "kernelspec": {
   "display_name": "Python 3 (ipykernel)",
   "language": "python",
   "name": "python3"
  },
  "language_info": {
   "codemirror_mode": {
    "name": "ipython",
    "version": 3
   },
   "file_extension": ".py",
   "mimetype": "text/x-python",
   "name": "python",
   "nbconvert_exporter": "python",
   "pygments_lexer": "ipython3",
   "version": "3.11.9"
  }
 },
 "nbformat": 4,
 "nbformat_minor": 4
}
